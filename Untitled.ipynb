{
 "cells": [
  {
   "cell_type": "code",
   "execution_count": 6,
   "metadata": {},
   "outputs": [],
   "source": [
    "import vk\n",
    "import pandas as pd\n",
    "import numpy as np\n",
    "from multiprocessing import Process\n"
   ]
  },
  {
   "cell_type": "code",
   "execution_count": 7,
   "metadata": {},
   "outputs": [],
   "source": [
    "TOKEN2 = \"eddf844ecac6d58a98472a6e919c4f613c6dabc5897f6fc5f36cb2676205c3289c9f7b7a2ffcd6230810e\"\n",
    "TOKEN1 = \"3021227f74d5a2e3bd86dbb13c2c8313b9453ac7dbb0c81b4c13a5ac51afdf5e2e4df7f220e54daafe990\""
   ]
  },
  {
   "cell_type": "code",
   "execution_count": 8,
   "metadata": {
    "scrolled": false
   },
   "outputs": [],
   "source": [
    "def process(position,token):\n",
    "    session = vk.Session(access_token=token)\n",
    "    vk_api = vk.API(session)\n",
    "    js = vk_api.users.search(position=position, count=1000)\n",
    "    l=int(js[0])\n",
    "    data_df=pd.DataFrame(js[1:])\n",
    "    data_df.to_csv(\"{}_0.csv\".format(position))\n",
    "    print(\"{} {}\".format(position,l))\n"
   ]
  },
  {
   "cell_type": "code",
   "execution_count": 10,
   "metadata": {},
   "outputs": [
    {
     "name": "stdout",
     "output_type": "stream",
     "text": [
      "Data scientist 155\n",
      "data 1343\n"
     ]
    }
   ],
   "source": [
    "Process(target=process, args=(\"Data scientist\", TOKEN1,)).start()\n",
    "Process(target=process, args=(\"data\", TOKEN2,)).start()"
   ]
  },
  {
   "cell_type": "code",
   "execution_count": null,
   "metadata": {},
   "outputs": [],
   "source": []
  },
  {
   "cell_type": "code",
   "execution_count": null,
   "metadata": {},
   "outputs": [],
   "source": []
  }
 ],
 "metadata": {
  "kernelspec": {
   "display_name": "Python 3",
   "language": "python",
   "name": "python3"
  },
  "language_info": {
   "codemirror_mode": {
    "name": "ipython",
    "version": 3
   },
   "file_extension": ".py",
   "mimetype": "text/x-python",
   "name": "python",
   "nbconvert_exporter": "python",
   "pygments_lexer": "ipython3",
   "version": "3.6.3"
  }
 },
 "nbformat": 4,
 "nbformat_minor": 2
}
