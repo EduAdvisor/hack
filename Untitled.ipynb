{
 "cells": [
  {
   "cell_type": "code",
   "execution_count": 95,
   "metadata": {},
   "outputs": [],
   "source": [
    "from sklearn.ensemble import RandomForestClassifier\n",
    "import vk\n",
    "import pandas as pd\n",
    "import numpy as np\n",
    "from multiprocessing import Process\n",
    "import time\n",
    "from datetime import date, datetime\n",
    "from sklearn import preprocessing\n",
    "import warnings\n",
    "warnings.filterwarnings(\"ignore\", category=DeprecationWarning) \n",
    "from sklearn.model_selection import train_test_split"
   ]
  },
  {
   "cell_type": "code",
   "execution_count": 96,
   "metadata": {},
   "outputs": [],
   "source": [
    "FIRST_LIST=[\"Product manager\",\n",
    "         \"IT-recruitment\",\n",
    "         \"Робототехник\",\n",
    "         \"Системный инженер\",\n",
    "         \"Системный архитектор\",\n",
    "         \"ERP\",\n",
    "         \"Data scientist\",\n",
    "         \"Backend\",\n",
    "         \"UI\",\n",
    "         \"Frontend\"]\n",
    "SECOND=[\"SMM\",\n",
    "          \"Техническая поддержка\",\n",
    "          \"информационной безопасности\",\n",
    "          \"Сисадмин\",\n",
    "          \"Бизнес аналитик\",\n",
    "          \"qa engineer\",\n",
    "          \"Технический писатель\",\n",
    "          \"Junior Developer\",\n",
    "          \"3d\",\n",
    "          \"SEO\"]\n",
    "THIRD=[\"Product manager\",\n",
    "         \"Робототехник\",\n",
    "         \"Системный архитектор\",\n",
    "         \"Data scientist\",\n",
    "         \"UI\",\"SMM\",\n",
    "          \"информационной безопасности\",\n",
    "          \"Бизнес аналитик\",\n",
    "          \"Технический писатель\",\n",
    "          \"3d\"]\n",
    "FORTH=[\"IT-recruitment\",\n",
    "         \"Системный инженер\",\n",
    "         \"ERP\",\n",
    "         \"Backend\",\n",
    "         \"Frontend\",\n",
    "          \"Техническая поддержка\",\n",
    "          \"Сисадмин\",\n",
    "          \"qa engineer\",\n",
    "          \"Junior Developer\",\n",
    "          \"SEO\"\n",
    "      ]\n",
    "COLUMNS=['albums', 'alcohol', 'audios', 'city', 'country', 'followers_count', 'friends',\n",
    "           'groups',\n",
    "           'has_mobile', 'has_photo', 'langs', 'life_main',\n",
    "           'notes',\n",
    "           'pages', 'people_main', 'photos', 'political', 'relation',\n",
    "           'schools',\n",
    "           'sex', 'smoking', 'uid', 'universities',\n",
    "           'videos', \"wall_posts\",\"age\"]"
   ]
  },
  {
   "cell_type": "code",
   "execution_count": 97,
   "metadata": {},
   "outputs": [],
   "source": [
    "def calculate_age(born):\n",
    "    today = date.today()\n",
    "    return today.year - born.year - ((today.month, today.day) < (born.month, born.day))\n",
    "\n",
    "def preprocess(df):\n",
    "    def drop_features(df):\n",
    "        return df.drop([\"trending\",\"user_videos\",\"Unnamed: 0\",\"position\", \"bdate\",\"followers\",\"first_name\",\"last_name\"],axis=1)\n",
    "    def format_bdate(df):\n",
    "        date = df[\"bdate\"]\n",
    "        ages = []\n",
    "        \n",
    "        for i in date:\n",
    "            ag = 0\n",
    "            if i != \"-1\":\n",
    "                l = i.split(\".\")\n",
    "                if len(l) == 3:\n",
    "                    d = datetime.strptime(i, \"%d.%m.%Y\").date()\n",
    "                    ag = calculate_age(d)\n",
    "                else:\n",
    "                    ag = -1\n",
    "            ages.append(ag)    \n",
    "        df[\"age\"] = ages\n",
    "        return df\n",
    "    df=df[1:]\n",
    "    df=format_bdate(df)\n",
    "    df=drop_features(df)\n",
    "    return df"
   ]
  },
  {
   "cell_type": "code",
   "execution_count": 98,
   "metadata": {},
   "outputs": [],
   "source": [
    "clf1 = RandomForestClassifier()\n",
    "clf2 = RandomForestClassifier()\n",
    "COLUMNS2=COLUMNS.extend([\"t1\",\"t2\"])"
   ]
  },
  {
   "cell_type": "code",
   "execution_count": 99,
   "metadata": {
    "scrolled": true
   },
   "outputs": [
    {
     "name": "stderr",
     "output_type": "stream",
     "text": [
      "/Users/macbook/virtualenvs/myenv/lib/python3.6/site-packages/ipykernel_launcher.py:22: SettingWithCopyWarning: \n",
      "A value is trying to be set on a copy of a slice from a DataFrame.\n",
      "Try using .loc[row_indexer,col_indexer] = value instead\n",
      "\n",
      "See the caveats in the documentation: http://pandas.pydata.org/pandas-docs/stable/indexing.html#indexing-view-versus-copy\n"
     ]
    }
   ],
   "source": [
    "main=pd.DataFrame(index=[0],columns=COLUMNS2)\n",
    "for i in FIRST_LIST:\n",
    "    data_train=pd.read_csv(\"data/{}/full.csv\".format(i))\n",
    "    df_train=preprocess(data_train)\n",
    "    df_train[\"t1\"] = [0] * len(df_train.index)\n",
    "    if i in THIRD:\n",
    "        df_train[\"t2\"] = [0] * len(df_train.index)\n",
    "    else:\n",
    "        df_train[\"t2\"] = [1] * len(df_train.index)\n",
    "    main=pd.concat([main,df_train])[1:]\n",
    "main.to_csv(\"data/_full{}.csv\".format(0))\n",
    "for i in SECOND:\n",
    "    data_train=pd.read_csv(\"data/{}/full.csv\".format(i))\n",
    "    df_train=preprocess(data_train)\n",
    "    df_train[\"t1\"] = [1] * len(df_train.index)\n",
    "    if i in THIRD:\n",
    "        df_train[\"t2\"] = [0] * len(df_train.index)\n",
    "    else:\n",
    "        df_train[\"t2\"] = [1] * len(df_train.index)\n",
    "    main=pd.concat([main,df_train])\n",
    "    \n",
    "main.to_csv(\"data/_full{}.csv\".format(1))"
   ]
  },
  {
   "cell_type": "code",
   "execution_count": 100,
   "metadata": {},
   "outputs": [
    {
     "data": {
      "text/plain": [
       "False"
      ]
     },
     "execution_count": 100,
     "metadata": {},
     "output_type": "execute_result"
    }
   ],
   "source": [
    "X_all=main\n",
    "y1=main['t1']\n",
    "y2=main['t2']\n",
    "X=X_all.drop(['t1','t2'],axis=1)\n",
    "X_all.isnull().values.any()"
   ]
  },
  {
   "cell_type": "code",
   "execution_count": 101,
   "metadata": {},
   "outputs": [
    {
     "data": {
      "text/html": [
       "<div>\n",
       "<style scoped>\n",
       "    .dataframe tbody tr th:only-of-type {\n",
       "        vertical-align: middle;\n",
       "    }\n",
       "\n",
       "    .dataframe tbody tr th {\n",
       "        vertical-align: top;\n",
       "    }\n",
       "\n",
       "    .dataframe thead th {\n",
       "        text-align: right;\n",
       "    }\n",
       "</style>\n",
       "<table border=\"1\" class=\"dataframe\">\n",
       "  <thead>\n",
       "    <tr style=\"text-align: right;\">\n",
       "      <th></th>\n",
       "      <th>age</th>\n",
       "      <th>albums</th>\n",
       "      <th>alcohol</th>\n",
       "      <th>audios</th>\n",
       "      <th>city</th>\n",
       "      <th>country</th>\n",
       "      <th>followers_count</th>\n",
       "      <th>friends</th>\n",
       "      <th>groups</th>\n",
       "      <th>has_mobile</th>\n",
       "      <th>...</th>\n",
       "      <th>relation</th>\n",
       "      <th>schools</th>\n",
       "      <th>sex</th>\n",
       "      <th>smoking</th>\n",
       "      <th>t1</th>\n",
       "      <th>t2</th>\n",
       "      <th>uid</th>\n",
       "      <th>universities</th>\n",
       "      <th>videos</th>\n",
       "      <th>wall_posts</th>\n",
       "    </tr>\n",
       "  </thead>\n",
       "  <tbody>\n",
       "    <tr>\n",
       "      <th>10</th>\n",
       "      <td>-1.0</td>\n",
       "      <td>8.0</td>\n",
       "      <td>3.0</td>\n",
       "      <td>361.0</td>\n",
       "      <td>2.0</td>\n",
       "      <td>1.0</td>\n",
       "      <td>1980.0</td>\n",
       "      <td>565.0</td>\n",
       "      <td>-1.0</td>\n",
       "      <td>1.0</td>\n",
       "      <td>...</td>\n",
       "      <td>0.0</td>\n",
       "      <td>1.0</td>\n",
       "      <td>1.0</td>\n",
       "      <td>2.0</td>\n",
       "      <td>0.0</td>\n",
       "      <td>0.0</td>\n",
       "      <td>108296.0</td>\n",
       "      <td>2.0</td>\n",
       "      <td>114.0</td>\n",
       "      <td>2456.0</td>\n",
       "    </tr>\n",
       "    <tr>\n",
       "      <th>11</th>\n",
       "      <td>-1.0</td>\n",
       "      <td>0.0</td>\n",
       "      <td>-1.0</td>\n",
       "      <td>0.0</td>\n",
       "      <td>169.0</td>\n",
       "      <td>1.0</td>\n",
       "      <td>1883.0</td>\n",
       "      <td>21.0</td>\n",
       "      <td>-1.0</td>\n",
       "      <td>1.0</td>\n",
       "      <td>...</td>\n",
       "      <td>-1.0</td>\n",
       "      <td>-1.0</td>\n",
       "      <td>2.0</td>\n",
       "      <td>-1.0</td>\n",
       "      <td>0.0</td>\n",
       "      <td>0.0</td>\n",
       "      <td>131762193.0</td>\n",
       "      <td>-1.0</td>\n",
       "      <td>53.0</td>\n",
       "      <td>81.0</td>\n",
       "    </tr>\n",
       "    <tr>\n",
       "      <th>12</th>\n",
       "      <td>31.0</td>\n",
       "      <td>3.0</td>\n",
       "      <td>5.0</td>\n",
       "      <td>705.0</td>\n",
       "      <td>1.0</td>\n",
       "      <td>1.0</td>\n",
       "      <td>2287.0</td>\n",
       "      <td>491.0</td>\n",
       "      <td>-1.0</td>\n",
       "      <td>1.0</td>\n",
       "      <td>...</td>\n",
       "      <td>4.0</td>\n",
       "      <td>1.0</td>\n",
       "      <td>2.0</td>\n",
       "      <td>4.0</td>\n",
       "      <td>0.0</td>\n",
       "      <td>0.0</td>\n",
       "      <td>1459607.0</td>\n",
       "      <td>2.0</td>\n",
       "      <td>92.0</td>\n",
       "      <td>3920.0</td>\n",
       "    </tr>\n",
       "    <tr>\n",
       "      <th>13</th>\n",
       "      <td>-1.0</td>\n",
       "      <td>2.0</td>\n",
       "      <td>-1.0</td>\n",
       "      <td>0.0</td>\n",
       "      <td>650.0</td>\n",
       "      <td>2.0</td>\n",
       "      <td>1767.0</td>\n",
       "      <td>301.0</td>\n",
       "      <td>-1.0</td>\n",
       "      <td>1.0</td>\n",
       "      <td>...</td>\n",
       "      <td>-1.0</td>\n",
       "      <td>-1.0</td>\n",
       "      <td>1.0</td>\n",
       "      <td>-1.0</td>\n",
       "      <td>0.0</td>\n",
       "      <td>0.0</td>\n",
       "      <td>50759609.0</td>\n",
       "      <td>-1.0</td>\n",
       "      <td>649.0</td>\n",
       "      <td>1010.0</td>\n",
       "    </tr>\n",
       "    <tr>\n",
       "      <th>14</th>\n",
       "      <td>-1.0</td>\n",
       "      <td>0.0</td>\n",
       "      <td>-1.0</td>\n",
       "      <td>0.0</td>\n",
       "      <td>1.0</td>\n",
       "      <td>1.0</td>\n",
       "      <td>2579.0</td>\n",
       "      <td>1783.0</td>\n",
       "      <td>-1.0</td>\n",
       "      <td>1.0</td>\n",
       "      <td>...</td>\n",
       "      <td>-1.0</td>\n",
       "      <td>-1.0</td>\n",
       "      <td>1.0</td>\n",
       "      <td>-1.0</td>\n",
       "      <td>0.0</td>\n",
       "      <td>0.0</td>\n",
       "      <td>16058101.0</td>\n",
       "      <td>-1.0</td>\n",
       "      <td>85.0</td>\n",
       "      <td>137.0</td>\n",
       "    </tr>\n",
       "  </tbody>\n",
       "</table>\n",
       "<p>5 rows × 28 columns</p>\n",
       "</div>"
      ],
      "text/plain": [
       "     age  albums  alcohol  audios   city  country  followers_count  friends  \\\n",
       "10  -1.0     8.0      3.0   361.0    2.0      1.0           1980.0    565.0   \n",
       "11  -1.0     0.0     -1.0     0.0  169.0      1.0           1883.0     21.0   \n",
       "12  31.0     3.0      5.0   705.0    1.0      1.0           2287.0    491.0   \n",
       "13  -1.0     2.0     -1.0     0.0  650.0      2.0           1767.0    301.0   \n",
       "14  -1.0     0.0     -1.0     0.0    1.0      1.0           2579.0   1783.0   \n",
       "\n",
       "    groups  has_mobile     ...      relation  schools  sex  smoking   t1   t2  \\\n",
       "10    -1.0         1.0     ...           0.0      1.0  1.0      2.0  0.0  0.0   \n",
       "11    -1.0         1.0     ...          -1.0     -1.0  2.0     -1.0  0.0  0.0   \n",
       "12    -1.0         1.0     ...           4.0      1.0  2.0      4.0  0.0  0.0   \n",
       "13    -1.0         1.0     ...          -1.0     -1.0  1.0     -1.0  0.0  0.0   \n",
       "14    -1.0         1.0     ...          -1.0     -1.0  1.0     -1.0  0.0  0.0   \n",
       "\n",
       "            uid  universities  videos  wall_posts  \n",
       "10     108296.0           2.0   114.0      2456.0  \n",
       "11  131762193.0          -1.0    53.0        81.0  \n",
       "12    1459607.0           2.0    92.0      3920.0  \n",
       "13   50759609.0          -1.0   649.0      1010.0  \n",
       "14   16058101.0          -1.0    85.0       137.0  \n",
       "\n",
       "[5 rows x 28 columns]"
      ]
     },
     "execution_count": 101,
     "metadata": {},
     "output_type": "execute_result"
    }
   ],
   "source": [
    "X_all.head()"
   ]
  },
  {
   "cell_type": "code",
   "execution_count": 102,
   "metadata": {},
   "outputs": [
    {
     "data": {
      "text/plain": [
       "RandomForestClassifier(bootstrap=True, class_weight=None, criterion='gini',\n",
       "            max_depth=None, max_features='auto', max_leaf_nodes=None,\n",
       "            min_impurity_decrease=0.0, min_impurity_split=None,\n",
       "            min_samples_leaf=1, min_samples_split=2,\n",
       "            min_weight_fraction_leaf=0.0, n_estimators=10, n_jobs=1,\n",
       "            oob_score=False, random_state=None, verbose=0,\n",
       "            warm_start=False)"
      ]
     },
     "execution_count": 102,
     "metadata": {},
     "output_type": "execute_result"
    }
   ],
   "source": [
    "clf1.fit(X,y1)\n"
   ]
  },
  {
   "cell_type": "code",
   "execution_count": 103,
   "metadata": {},
   "outputs": [
    {
     "data": {
      "text/plain": [
       "RandomForestClassifier(bootstrap=True, class_weight=None, criterion='gini',\n",
       "            max_depth=None, max_features='auto', max_leaf_nodes=None,\n",
       "            min_impurity_decrease=0.0, min_impurity_split=None,\n",
       "            min_samples_leaf=1, min_samples_split=2,\n",
       "            min_weight_fraction_leaf=0.0, n_estimators=10, n_jobs=1,\n",
       "            oob_score=False, random_state=None, verbose=0,\n",
       "            warm_start=False)"
      ]
     },
     "execution_count": 103,
     "metadata": {},
     "output_type": "execute_result"
    }
   ],
   "source": [
    "clf2.fit(X,y2)"
   ]
  },
  {
   "cell_type": "code",
   "execution_count": 104,
   "metadata": {},
   "outputs": [
    {
     "data": {
      "text/plain": [
       "['clf2.pkl']"
      ]
     },
     "execution_count": 104,
     "metadata": {},
     "output_type": "execute_result"
    }
   ],
   "source": [
    "from sklearn.externals import joblib\n",
    "joblib.dump(clf1, 'clf1.pkl') \n",
    "joblib.dump(clf2, 'clf2.pkl') "
   ]
  },
  {
   "cell_type": "code",
   "execution_count": 105,
   "metadata": {},
   "outputs": [],
   "source": [
    "RANDOM_SEED = 42\n",
    "X_train, X_test, y_train, y_test = train_test_split(X, y1, test_size=0.33, random_state = RANDOM_SEED)"
   ]
  },
  {
   "cell_type": "code",
   "execution_count": 106,
   "metadata": {},
   "outputs": [
    {
     "name": "stdout",
     "output_type": "stream",
     "text": [
      "Best score:  0.688623708034\n",
      "Params:  {'class_weight': 'balanced', 'criterion': 'entropy', 'max_depth': 8, 'max_features': 15}\n"
     ]
    }
   ],
   "source": [
    "from sklearn.model_selection import GridSearchCV\n",
    "from sklearn.model_selection import StratifiedKFold\n",
    "from sklearn.metrics import roc_auc_score\n",
    "\n",
    "kf = StratifiedKFold(n_splits = 5, random_state=RANDOM_SEED, shuffle=True)\n",
    "param = {'criterion':['gini', 'entropy'], 'max_features':[1, 5, 10, 15, 20, 'log2', 'auto'],\n",
    "         'max_depth':[2, 4, 8, 16, 32, 64], 'class_weight':['balanced']}\n",
    "cv = GridSearchCV(RandomForestClassifier(), param, scoring='roc_auc', n_jobs = -1, cv=kf)\n",
    "cv.fit(X_train, y_train);\n",
    "print('Best score: ', cv.best_score_)\n",
    "print('Params: ', cv.best_params_)"
   ]
  },
  {
   "cell_type": "code",
   "execution_count": 107,
   "metadata": {},
   "outputs": [],
   "source": [
    "def top_features_print(n, importances, importances_names):\n",
    "    indexes = importances.argsort()[-n:][::-1]\n",
    "    for i, index in enumerate(indexes):\n",
    "        print ('#{} Important feature is -- {} with {:.2f} importance'.format(i + 1, importances_names[index], importances[index]))"
   ]
  },
  {
   "cell_type": "code",
   "execution_count": 108,
   "metadata": {},
   "outputs": [
    {
     "name": "stdout",
     "output_type": "stream",
     "text": [
      "Most important features\n",
      "#1 Important feature is -- followers_count with 0.31 importance\n",
      "#2 Important feature is -- uid with 0.08 importance\n",
      "#3 Important feature is -- wall_posts with 0.07 importance\n",
      "#4 Important feature is -- city with 0.07 importance\n",
      "#5 Important feature is -- friends with 0.06 importance\n",
      "#6 Important feature is -- country with 0.06 importance\n",
      "#7 Important feature is -- pages with 0.06 importance\n",
      "#8 Important feature is -- videos with 0.05 importance\n",
      "#9 Important feature is -- photos with 0.04 importance\n",
      "#10 Important feature is -- audios with 0.04 importance\n"
     ]
    }
   ],
   "source": [
    "print(\"Most important features\")\n",
    "top_features_print(10, cv.best_estimator_.feature_importances_, X.columns)"
   ]
  },
  {
   "cell_type": "markdown",
   "metadata": {},
   "source": []
  },
  {
   "cell_type": "code",
   "execution_count": 93,
   "metadata": {},
   "outputs": [
    {
     "data": {
      "text/plain": [
       "0.62597695469529901"
      ]
     },
     "execution_count": 93,
     "metadata": {},
     "output_type": "execute_result"
    }
   ],
   "source": [
    "y_t = cv.predict(X_test)\n",
    "tt2 = cv.best_estimator_\n",
    "roc_auc_score(y_test.values, y_t)"
   ]
  },
  {
   "cell_type": "code",
   "execution_count": 94,
   "metadata": {},
   "outputs": [
    {
     "name": "stdout",
     "output_type": "stream",
     "text": [
      "Fold 1 accuracy: 1.0\n",
      "Fold 2 accuracy: 1.0\n",
      "Fold 3 accuracy: 1.0\n",
      "Fold 4 accuracy: 1.0\n",
      "Fold 5 accuracy: 1.0\n",
      "Fold 6 accuracy: 1.0\n",
      "Fold 7 accuracy: 1.0\n",
      "Fold 8 accuracy: 1.0\n",
      "Fold 9 accuracy: 1.0\n",
      "Fold 10 accuracy: 1.0\n",
      "Mean Accuracy: 1.0\n"
     ]
    }
   ],
   "source": []
  },
  {
   "cell_type": "code",
   "execution_count": null,
   "metadata": {},
   "outputs": [],
   "source": []
  }
 ],
 "metadata": {
  "kernelspec": {
   "display_name": "Python 3",
   "language": "python",
   "name": "python3"
  },
  "language_info": {
   "codemirror_mode": {
    "name": "ipython",
    "version": 3
   },
   "file_extension": ".py",
   "mimetype": "text/x-python",
   "name": "python",
   "nbconvert_exporter": "python",
   "pygments_lexer": "ipython3",
   "version": "3.6.3"
  }
 },
 "nbformat": 4,
 "nbformat_minor": 2
}
